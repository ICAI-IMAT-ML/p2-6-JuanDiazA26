{
 "cells": [
  {
   "cell_type": "markdown",
   "metadata": {
    "id": "9d2nuPDW4ZUK"
   },
   "source": [
    "# Laboratory 2.6: LOO + k-Fold Cross Validation\n",
    "\n",
    "In this practice we will implement one of the main techniques to prevent overfitting when training a model: **cross-validation**.\n",
    "\n",
    "In addition, we will be using the following libraries:\n",
    "- Data management:\n",
    "    - [numpy](https://numpy.org/)\n",
    "- Modelling and scoring:\n",
    "    - [scikit-learn](https://scikit-learn.org)\n",
    "- Plotting:\n",
    "    - [matplotlib](https://matplotlib.org/)\n",
    "    \n",
    "### **All the things you need to do are marked by a \"TODO\" comment nearby. Make sure you *read carefully everything before working* and solve each point before submitting your solution.**"
   ]
  },
  {
   "cell_type": "code",
   "execution_count": 2,
   "metadata": {
    "id": "_d4_PT3O4ZUM"
   },
   "outputs": [],
   "source": [
    "import matplotlib.pyplot as plt\n",
    "import numpy as np\n",
    "from sklearn.neighbors import KNeighborsClassifier\n",
    "from sklearn.metrics import accuracy_score\n",
    "import os\n",
    "import sys\n",
    "# Get the absolute path of the project root\n",
    "project_root = os.path.abspath(os.path.join(os.getcwd(), \"..\"))\n",
    "\n",
    "# Add it to sys.path\n",
    "sys.path.insert(0, project_root)"
   ]
  },
  {
   "cell_type": "markdown",
   "metadata": {
    "id": "k5wT1jq44ZUM"
   },
   "source": [
    "In the following cell import the training (`training.dat`) and test (`test.dat`) dataset. We recommend you to use the `np.loadtxt()` function.\n",
    "\n",
    "You will need to create the `X_train`, `y_train`, `X_test` and `y_test` variables. Take into account that each dataset have 10 variables, where the last one is the output variable."
   ]
  },
  {
   "cell_type": "code",
   "execution_count": 3,
   "metadata": {
    "id": "tl8HWknw4ZUN"
   },
   "outputs": [],
   "source": [
    "# TODO: Load training.dat and text.dat and create X_train, y_train, X_test and y_test\n",
    "train = np.loadtxt(\"../data/training.dat\", delimiter=\",\")\n",
    "X_train = train[:, :-1]\n",
    "y_train = train[:, -1:].reshape(-1)\n",
    "test = np.loadtxt(\"../data/test.dat\", delimiter=\",\")\n",
    "X_test = test[:, :-1]\n",
    "y_test = test[:, -1:].reshape(-1)"
   ]
  },
  {
   "cell_type": "markdown",
   "metadata": {
    "id": "XE4EMflX4ZUN"
   },
   "source": [
    "With this data you are going to train the optimal `KNeighborsClassifier` model."
   ]
  },
  {
   "cell_type": "markdown",
   "metadata": {
    "id": "5iVd68pH4ZUN"
   },
   "source": [
    "### Initial guess\n",
    "\n",
    "As you have no idea of what the optimal value of `n_neighbors` is, trust your professors and use `n_neighbors = 4` to train your model."
   ]
  },
  {
   "cell_type": "code",
   "execution_count": 4,
   "metadata": {
    "id": "CMhqi60d4ZUN"
   },
   "outputs": [
    {
     "data": {
      "text/html": [
       "<style>#sk-container-id-1 {color: black;}#sk-container-id-1 pre{padding: 0;}#sk-container-id-1 div.sk-toggleable {background-color: white;}#sk-container-id-1 label.sk-toggleable__label {cursor: pointer;display: block;width: 100%;margin-bottom: 0;padding: 0.3em;box-sizing: border-box;text-align: center;}#sk-container-id-1 label.sk-toggleable__label-arrow:before {content: \"▸\";float: left;margin-right: 0.25em;color: #696969;}#sk-container-id-1 label.sk-toggleable__label-arrow:hover:before {color: black;}#sk-container-id-1 div.sk-estimator:hover label.sk-toggleable__label-arrow:before {color: black;}#sk-container-id-1 div.sk-toggleable__content {max-height: 0;max-width: 0;overflow: hidden;text-align: left;background-color: #f0f8ff;}#sk-container-id-1 div.sk-toggleable__content pre {margin: 0.2em;color: black;border-radius: 0.25em;background-color: #f0f8ff;}#sk-container-id-1 input.sk-toggleable__control:checked~div.sk-toggleable__content {max-height: 200px;max-width: 100%;overflow: auto;}#sk-container-id-1 input.sk-toggleable__control:checked~label.sk-toggleable__label-arrow:before {content: \"▾\";}#sk-container-id-1 div.sk-estimator input.sk-toggleable__control:checked~label.sk-toggleable__label {background-color: #d4ebff;}#sk-container-id-1 div.sk-label input.sk-toggleable__control:checked~label.sk-toggleable__label {background-color: #d4ebff;}#sk-container-id-1 input.sk-hidden--visually {border: 0;clip: rect(1px 1px 1px 1px);clip: rect(1px, 1px, 1px, 1px);height: 1px;margin: -1px;overflow: hidden;padding: 0;position: absolute;width: 1px;}#sk-container-id-1 div.sk-estimator {font-family: monospace;background-color: #f0f8ff;border: 1px dotted black;border-radius: 0.25em;box-sizing: border-box;margin-bottom: 0.5em;}#sk-container-id-1 div.sk-estimator:hover {background-color: #d4ebff;}#sk-container-id-1 div.sk-parallel-item::after {content: \"\";width: 100%;border-bottom: 1px solid gray;flex-grow: 1;}#sk-container-id-1 div.sk-label:hover label.sk-toggleable__label {background-color: #d4ebff;}#sk-container-id-1 div.sk-serial::before {content: \"\";position: absolute;border-left: 1px solid gray;box-sizing: border-box;top: 0;bottom: 0;left: 50%;z-index: 0;}#sk-container-id-1 div.sk-serial {display: flex;flex-direction: column;align-items: center;background-color: white;padding-right: 0.2em;padding-left: 0.2em;position: relative;}#sk-container-id-1 div.sk-item {position: relative;z-index: 1;}#sk-container-id-1 div.sk-parallel {display: flex;align-items: stretch;justify-content: center;background-color: white;position: relative;}#sk-container-id-1 div.sk-item::before, #sk-container-id-1 div.sk-parallel-item::before {content: \"\";position: absolute;border-left: 1px solid gray;box-sizing: border-box;top: 0;bottom: 0;left: 50%;z-index: -1;}#sk-container-id-1 div.sk-parallel-item {display: flex;flex-direction: column;z-index: 1;position: relative;background-color: white;}#sk-container-id-1 div.sk-parallel-item:first-child::after {align-self: flex-end;width: 50%;}#sk-container-id-1 div.sk-parallel-item:last-child::after {align-self: flex-start;width: 50%;}#sk-container-id-1 div.sk-parallel-item:only-child::after {width: 0;}#sk-container-id-1 div.sk-dashed-wrapped {border: 1px dashed gray;margin: 0 0.4em 0.5em 0.4em;box-sizing: border-box;padding-bottom: 0.4em;background-color: white;}#sk-container-id-1 div.sk-label label {font-family: monospace;font-weight: bold;display: inline-block;line-height: 1.2em;}#sk-container-id-1 div.sk-label-container {text-align: center;}#sk-container-id-1 div.sk-container {/* jupyter's `normalize.less` sets `[hidden] { display: none; }` but bootstrap.min.css set `[hidden] { display: none !important; }` so we also need the `!important` here to be able to override the default hidden behavior on the sphinx rendered scikit-learn.org. See: https://github.com/scikit-learn/scikit-learn/issues/21755 */display: inline-block !important;position: relative;}#sk-container-id-1 div.sk-text-repr-fallback {display: none;}</style><div id=\"sk-container-id-1\" class=\"sk-top-container\"><div class=\"sk-text-repr-fallback\"><pre>KNeighborsClassifier(n_neighbors=4)</pre><b>In a Jupyter environment, please rerun this cell to show the HTML representation or trust the notebook. <br />On GitHub, the HTML representation is unable to render, please try loading this page with nbviewer.org.</b></div><div class=\"sk-container\" hidden><div class=\"sk-item\"><div class=\"sk-estimator sk-toggleable\"><input class=\"sk-toggleable__control sk-hidden--visually\" id=\"sk-estimator-id-1\" type=\"checkbox\" checked><label for=\"sk-estimator-id-1\" class=\"sk-toggleable__label sk-toggleable__label-arrow\">KNeighborsClassifier</label><div class=\"sk-toggleable__content\"><pre>KNeighborsClassifier(n_neighbors=4)</pre></div></div></div></div></div>"
      ],
      "text/plain": [
       "KNeighborsClassifier(n_neighbors=4)"
      ]
     },
     "execution_count": 4,
     "metadata": {},
     "output_type": "execute_result"
    }
   ],
   "source": [
    "# TODO: Train a KNeighborsClassifier model with n_neighbors=4\n",
    "model = KNeighborsClassifier(n_neighbors=4)\n",
    "model.fit(X_train, y_train)"
   ]
  },
  {
   "cell_type": "markdown",
   "metadata": {
    "id": "Oo_wQZs94ZUN"
   },
   "source": [
    "Now, calculate the accuracy of the model for the training and test sets using the `accuracy_score` function from `scikit-learn`."
   ]
  },
  {
   "cell_type": "code",
   "execution_count": 5,
   "metadata": {
    "id": "-IUy6tE_4ZUO"
   },
   "outputs": [
    {
     "name": "stdout",
     "output_type": "stream",
     "text": [
      "Accuracy, train = 0.84375 test = 0.785\n"
     ]
    }
   ],
   "source": [
    "# TODO: Calculate accuracy in training and test for KNN with k=4\n",
    "acc_train = accuracy_score(y_train, model.predict(X_train))\n",
    "acc_test = accuracy_score(y_test, model.predict(X_test))\n",
    "print(f'Accuracy, train = {acc_train} test = {acc_test}')"
   ]
  },
  {
   "cell_type": "markdown",
   "metadata": {
    "id": "RXg2LdcP4ZUO"
   },
   "source": [
    "**What is happening with this value of `n_neighbors`?**\n",
    "> El modelo tiende al overfitting, ya que tiene peor precisión en el test a cambio de buena precisión en el train, lo cual no nos interesa demasiado"
   ]
  },
  {
   "cell_type": "markdown",
   "metadata": {
    "id": "u_e90-Il4ZUO"
   },
   "source": [
    "### Damage control\n",
    "It seems that `n_neighbors = 4` overfits for this dataset. Let's try to correct this and use `n_neighbors = 20`"
   ]
  },
  {
   "cell_type": "code",
   "execution_count": 6,
   "metadata": {
    "id": "e0LAvjGV4ZUO"
   },
   "outputs": [
    {
     "data": {
      "text/html": [
       "<style>#sk-container-id-2 {color: black;}#sk-container-id-2 pre{padding: 0;}#sk-container-id-2 div.sk-toggleable {background-color: white;}#sk-container-id-2 label.sk-toggleable__label {cursor: pointer;display: block;width: 100%;margin-bottom: 0;padding: 0.3em;box-sizing: border-box;text-align: center;}#sk-container-id-2 label.sk-toggleable__label-arrow:before {content: \"▸\";float: left;margin-right: 0.25em;color: #696969;}#sk-container-id-2 label.sk-toggleable__label-arrow:hover:before {color: black;}#sk-container-id-2 div.sk-estimator:hover label.sk-toggleable__label-arrow:before {color: black;}#sk-container-id-2 div.sk-toggleable__content {max-height: 0;max-width: 0;overflow: hidden;text-align: left;background-color: #f0f8ff;}#sk-container-id-2 div.sk-toggleable__content pre {margin: 0.2em;color: black;border-radius: 0.25em;background-color: #f0f8ff;}#sk-container-id-2 input.sk-toggleable__control:checked~div.sk-toggleable__content {max-height: 200px;max-width: 100%;overflow: auto;}#sk-container-id-2 input.sk-toggleable__control:checked~label.sk-toggleable__label-arrow:before {content: \"▾\";}#sk-container-id-2 div.sk-estimator input.sk-toggleable__control:checked~label.sk-toggleable__label {background-color: #d4ebff;}#sk-container-id-2 div.sk-label input.sk-toggleable__control:checked~label.sk-toggleable__label {background-color: #d4ebff;}#sk-container-id-2 input.sk-hidden--visually {border: 0;clip: rect(1px 1px 1px 1px);clip: rect(1px, 1px, 1px, 1px);height: 1px;margin: -1px;overflow: hidden;padding: 0;position: absolute;width: 1px;}#sk-container-id-2 div.sk-estimator {font-family: monospace;background-color: #f0f8ff;border: 1px dotted black;border-radius: 0.25em;box-sizing: border-box;margin-bottom: 0.5em;}#sk-container-id-2 div.sk-estimator:hover {background-color: #d4ebff;}#sk-container-id-2 div.sk-parallel-item::after {content: \"\";width: 100%;border-bottom: 1px solid gray;flex-grow: 1;}#sk-container-id-2 div.sk-label:hover label.sk-toggleable__label {background-color: #d4ebff;}#sk-container-id-2 div.sk-serial::before {content: \"\";position: absolute;border-left: 1px solid gray;box-sizing: border-box;top: 0;bottom: 0;left: 50%;z-index: 0;}#sk-container-id-2 div.sk-serial {display: flex;flex-direction: column;align-items: center;background-color: white;padding-right: 0.2em;padding-left: 0.2em;position: relative;}#sk-container-id-2 div.sk-item {position: relative;z-index: 1;}#sk-container-id-2 div.sk-parallel {display: flex;align-items: stretch;justify-content: center;background-color: white;position: relative;}#sk-container-id-2 div.sk-item::before, #sk-container-id-2 div.sk-parallel-item::before {content: \"\";position: absolute;border-left: 1px solid gray;box-sizing: border-box;top: 0;bottom: 0;left: 50%;z-index: -1;}#sk-container-id-2 div.sk-parallel-item {display: flex;flex-direction: column;z-index: 1;position: relative;background-color: white;}#sk-container-id-2 div.sk-parallel-item:first-child::after {align-self: flex-end;width: 50%;}#sk-container-id-2 div.sk-parallel-item:last-child::after {align-self: flex-start;width: 50%;}#sk-container-id-2 div.sk-parallel-item:only-child::after {width: 0;}#sk-container-id-2 div.sk-dashed-wrapped {border: 1px dashed gray;margin: 0 0.4em 0.5em 0.4em;box-sizing: border-box;padding-bottom: 0.4em;background-color: white;}#sk-container-id-2 div.sk-label label {font-family: monospace;font-weight: bold;display: inline-block;line-height: 1.2em;}#sk-container-id-2 div.sk-label-container {text-align: center;}#sk-container-id-2 div.sk-container {/* jupyter's `normalize.less` sets `[hidden] { display: none; }` but bootstrap.min.css set `[hidden] { display: none !important; }` so we also need the `!important` here to be able to override the default hidden behavior on the sphinx rendered scikit-learn.org. See: https://github.com/scikit-learn/scikit-learn/issues/21755 */display: inline-block !important;position: relative;}#sk-container-id-2 div.sk-text-repr-fallback {display: none;}</style><div id=\"sk-container-id-2\" class=\"sk-top-container\"><div class=\"sk-text-repr-fallback\"><pre>KNeighborsClassifier(n_neighbors=20)</pre><b>In a Jupyter environment, please rerun this cell to show the HTML representation or trust the notebook. <br />On GitHub, the HTML representation is unable to render, please try loading this page with nbviewer.org.</b></div><div class=\"sk-container\" hidden><div class=\"sk-item\"><div class=\"sk-estimator sk-toggleable\"><input class=\"sk-toggleable__control sk-hidden--visually\" id=\"sk-estimator-id-2\" type=\"checkbox\" checked><label for=\"sk-estimator-id-2\" class=\"sk-toggleable__label sk-toggleable__label-arrow\">KNeighborsClassifier</label><div class=\"sk-toggleable__content\"><pre>KNeighborsClassifier(n_neighbors=20)</pre></div></div></div></div></div>"
      ],
      "text/plain": [
       "KNeighborsClassifier(n_neighbors=20)"
      ]
     },
     "execution_count": 6,
     "metadata": {},
     "output_type": "execute_result"
    }
   ],
   "source": [
    "# TODO: Train a KNeighborsClassifier model with n_neighbors=20\n",
    "model = KNeighborsClassifier(n_neighbors=20)\n",
    "model.fit(X_train, y_train)"
   ]
  },
  {
   "cell_type": "markdown",
   "metadata": {
    "id": "VCHjp-nM4ZUO"
   },
   "source": [
    "Calculate again the accuracy of training and test sets for this model"
   ]
  },
  {
   "cell_type": "code",
   "execution_count": 7,
   "metadata": {
    "id": "DuU365Gf4ZUP"
   },
   "outputs": [
    {
     "name": "stdout",
     "output_type": "stream",
     "text": [
      "Accuracy, train = 0.81 test = 0.795\n"
     ]
    }
   ],
   "source": [
    "# TODO: Calculate accuracy in training and test for KNN with k=20\n",
    "acc_train = accuracy_score(y_train, model.predict(X_train))\n",
    "acc_test = accuracy_score(y_test, model.predict(X_test))\n",
    "print(f'Accuracy, train = {acc_train} test = {acc_test}')"
   ]
  },
  {
   "cell_type": "markdown",
   "metadata": {
    "id": "fm-IgXSv4ZUP"
   },
   "source": [
    "It seems that the accuracy of the test set has improved, but how can we be sure that `n_neighbors=20` is the optimal value?"
   ]
  },
  {
   "cell_type": "markdown",
   "metadata": {
    "id": "yRUev3Lm4ZUP"
   },
   "source": [
    "### Obtaining optimal value for hyperparameters\n",
    "\n",
    "We could keep trying with different values for `n_neighbors` until we find the optimal one. However, this strategy is unfeasible for real datasets. So how can we obtain a reasonable optimal value for the hyperparameters of a model?\n",
    "\n",
    "We can leverage the power of cross-validation:\n",
    "\n",
    "<center> <img title=\"5-Fold Cross-Validation \" alt=\"cross-validation\" src=\"https://miro.medium.com/v2/resize:fit:1200/1*AAwIlHM8TpAVe4l2FihNUQ.png\"> </center>\n",
    "\n",
    "Cross-validation give us a notion of the generalization error (i.e., test error) using parts of the training set as a validation set. This validation set is data that the trained model has not seen before, so if the model performs well in this part of the dataset it should generalize well in unseen data. However, as a fortunate partition might happen and generalization error might be underestimated, instead of using a single validation set we use K validation sets and we use the mean error in this K sets as the CV-error. This CV-error should give us a reliable estimation of the generalization error.\n",
    "\n",
    "But, how can we use it to obtain the optimal hyperparameters of the model? If the CV-error is an estimation of the generalization error, the hyperparameter values with least CV-error would result in the least generalization error. As CV-error can be computed during training, we obtain a faster way to obtain the optimal values of the hyperparameters."
   ]
  },
  {
   "cell_type": "markdown",
   "metadata": {
    "id": "CBaSPWdl4ZUP"
   },
   "source": [
    "Now that we know why we want cross validation, implement the `cross_validation` function. This function shall implement two cross validation methods:\n",
    "- K-Fold cross validation\n",
    "- Leave-one-out cross validation\n",
    "\n",
    "Check this [link](https://machinelearningmastery.com/k-fold-cross-validation/) to know the details of each method."
   ]
  },
  {
   "cell_type": "code",
   "execution_count": 8,
   "metadata": {
    "id": "Cn5P9ojg4ZUP"
   },
   "outputs": [],
   "source": [
    "from src.Lab2_6_CV import cross_validation"
   ]
  },
  {
   "cell_type": "markdown",
   "metadata": {
    "id": "Fmh7jiV-4ZUP"
   },
   "source": [
    "Now that we have the `cross_validation` function implemented, let's check which is the optimal value for `n_neighbors` in this problem."
   ]
  },
  {
   "cell_type": "code",
   "execution_count": null,
   "metadata": {
    "id": "EWzVt_1M4ZUQ"
   },
   "outputs": [
    {
     "data": {
      "text/plain": [
       "array([[0.76875, 0.765  ],\n",
       "       [0.81375, 0.81375],\n",
       "       [0.795  , 0.795  ],\n",
       "       [0.81375, 0.81875],\n",
       "       [0.7975 , 0.79625],\n",
       "       [0.81625, 0.82   ],\n",
       "       [0.79875, 0.79875],\n",
       "       [0.8125 , 0.81625],\n",
       "       [0.81   , 0.80375],\n",
       "       [0.81375, 0.81125],\n",
       "       [0.8075 , 0.80125],\n",
       "       [0.81125, 0.80125],\n",
       "       [0.79875, 0.79875],\n",
       "       [0.8    , 0.80375],\n",
       "       [0.8025 , 0.79875],\n",
       "       [0.8025 , 0.8    ],\n",
       "       [0.7975 , 0.79375],\n",
       "       [0.80125, 0.79625],\n",
       "       [0.79875, 0.79625],\n",
       "       [0.8025 , 0.795  ],\n",
       "       [0.7975 , 0.79   ],\n",
       "       [0.79625, 0.78875],\n",
       "       [0.78875, 0.7875 ],\n",
       "       [0.79375, 0.795  ],\n",
       "       [0.79   , 0.7875 ],\n",
       "       [0.79125, 0.7875 ],\n",
       "       [0.7875 , 0.7875 ],\n",
       "       [0.79125, 0.78875],\n",
       "       [0.79   , 0.785  ],\n",
       "       [0.79375, 0.79   ],\n",
       "       [0.78875, 0.785  ],\n",
       "       [0.79   , 0.79125],\n",
       "       [0.7875 , 0.78625],\n",
       "       [0.79   , 0.78875],\n",
       "       [0.78625, 0.78625],\n",
       "       [0.7875 , 0.78875],\n",
       "       [0.78375, 0.78625],\n",
       "       [0.785  , 0.7875 ],\n",
       "       [0.78375, 0.78625],\n",
       "       [0.785  , 0.78875],\n",
       "       [0.785  , 0.7825 ],\n",
       "       [0.78875, 0.78875],\n",
       "       [0.78625, 0.785  ],\n",
       "       [0.7875 , 0.7875 ],\n",
       "       [0.78875, 0.785  ],\n",
       "       [0.78625, 0.78875],\n",
       "       [0.7825 , 0.78625],\n",
       "       [0.7875 , 0.78875],\n",
       "       [0.7825 , 0.78375],\n",
       "       [0.78625, 0.78375],\n",
       "       [0.77875, 0.77875],\n",
       "       [0.7825 , 0.78375],\n",
       "       [0.77875, 0.78375],\n",
       "       [0.78375, 0.78   ],\n",
       "       [0.78625, 0.78   ],\n",
       "       [0.78375, 0.7775 ],\n",
       "       [0.7825 , 0.78   ],\n",
       "       [0.78125, 0.77875],\n",
       "       [0.78375, 0.7775 ],\n",
       "       [0.7825 , 0.78125],\n",
       "       [0.78125, 0.7775 ],\n",
       "       [0.78   , 0.78   ],\n",
       "       [0.77875, 0.7775 ],\n",
       "       [0.78   , 0.77875],\n",
       "       [0.7775 , 0.775  ],\n",
       "       [0.78375, 0.7775 ],\n",
       "       [0.78125, 0.7775 ],\n",
       "       [0.7825 , 0.775  ],\n",
       "       [0.78   , 0.7775 ],\n",
       "       [0.78375, 0.775  ],\n",
       "       [0.775  , 0.7725 ],\n",
       "       [0.77875, 0.7725 ],\n",
       "       [0.7775 , 0.7725 ],\n",
       "       [0.77625, 0.775  ],\n",
       "       [0.7775 , 0.77375],\n",
       "       [0.78   , 0.7725 ]])"
      ]
     },
     "execution_count": 10,
     "metadata": {},
     "output_type": "execute_result"
    }
   ],
   "source": [
    "# Initialize lists to store mean scores and standard deviations for each value of k\n",
    "mean_scores = []\n",
    "std_scores = []\n",
    "\n",
    "# Define the range of k values to test\n",
    "k_values = range(4, 80)\n",
    "\n",
    "# TODO: Loop through each value of k, obtaining the mean accuracy score and the standard deviation of the accuracy score in cross validation\n",
    "for k in k_values:\n",
    "    model = KNeighborsClassifier(n_neighbors=k)\n",
    "    mean_loo, std_loo = cross_validation(model, X_train, y_train, -1)\n",
    "    mean_k_fold, std_k_fold = cross_validation(model, X_train, y_train, 10)\n",
    "    mean_scores.append([mean_loo, mean_k_fold])\n",
    "    std_scores.append([std_loo, std_k_fold])\n",
    "# TODO: Find the highest score and the corresponding optimal k\n",
    "mean_scores = np.array(mean_scores)\n",
    "mean_scores[0]\n"
   ]
  },
  {
   "cell_type": "code",
   "execution_count": null,
   "metadata": {},
   "outputs": [
    {
     "data": {
      "text/plain": [
       "[0.765,\n",
       " 0.81375,\n",
       " 0.7950000000000002,\n",
       " 0.81875,\n",
       " 0.79625,\n",
       " 0.82,\n",
       " 0.79875,\n",
       " 0.8162499999999999,\n",
       " 0.80375,\n",
       " 0.8112499999999999,\n",
       " 0.8012499999999999,\n",
       " 0.8012500000000001,\n",
       " 0.7987500000000001,\n",
       " 0.80375,\n",
       " 0.79875,\n",
       " 0.8,\n",
       " 0.79375,\n",
       " 0.79625,\n",
       " 0.7962499999999999,\n",
       " 0.795,\n",
       " 0.7899999999999999,\n",
       " 0.7887500000000001,\n",
       " 0.7875,\n",
       " 0.7949999999999999,\n",
       " 0.7875,\n",
       " 0.7874999999999999,\n",
       " 0.7875000000000001,\n",
       " 0.7887500000000001,\n",
       " 0.785,\n",
       " 0.7899999999999999,\n",
       " 0.785,\n",
       " 0.79125,\n",
       " 0.78625,\n",
       " 0.78875,\n",
       " 0.78625,\n",
       " 0.78875,\n",
       " 0.78625,\n",
       " 0.7875,\n",
       " 0.78625,\n",
       " 0.7887500000000001,\n",
       " 0.7825,\n",
       " 0.7887500000000001,\n",
       " 0.785,\n",
       " 0.7875000000000001,\n",
       " 0.7849999999999999,\n",
       " 0.7887500000000001,\n",
       " 0.78625,\n",
       " 0.7887500000000001,\n",
       " 0.7837500000000001,\n",
       " 0.7837500000000001,\n",
       " 0.77875,\n",
       " 0.7837500000000001,\n",
       " 0.7837500000000001,\n",
       " 0.78,\n",
       " 0.78,\n",
       " 0.7775,\n",
       " 0.78,\n",
       " 0.77875,\n",
       " 0.7775000000000001,\n",
       " 0.7812500000000001,\n",
       " 0.7775000000000001,\n",
       " 0.78,\n",
       " 0.7775000000000001,\n",
       " 0.7787499999999999,\n",
       " 0.7750000000000001,\n",
       " 0.7775,\n",
       " 0.7775000000000001,\n",
       " 0.775,\n",
       " 0.7775,\n",
       " 0.775,\n",
       " 0.7725,\n",
       " 0.7725000000000001,\n",
       " 0.7725,\n",
       " 0.7749999999999999,\n",
       " 0.7737499999999999,\n",
       " 0.7725]"
      ]
     },
     "execution_count": 18,
     "metadata": {},
     "output_type": "execute_result"
    }
   ],
   "source": [
    "list(mean_scores[:,-1:].reshape(-1))\n"
   ]
  },
  {
   "cell_type": "markdown",
   "metadata": {
    "id": "1ffuliia4ZUQ"
   },
   "source": [
    "Now that we know the optimal value for `n_neighbors`, let's train a KNN model with this value of hyperparameter and check if the generalization error has improved."
   ]
  },
  {
   "cell_type": "code",
   "execution_count": null,
   "metadata": {
    "id": "--8eDkp_4ZUQ"
   },
   "outputs": [
    {
     "data": {
      "text/html": [
       "<style>#sk-container-id-27 {color: black;}#sk-container-id-27 pre{padding: 0;}#sk-container-id-27 div.sk-toggleable {background-color: white;}#sk-container-id-27 label.sk-toggleable__label {cursor: pointer;display: block;width: 100%;margin-bottom: 0;padding: 0.3em;box-sizing: border-box;text-align: center;}#sk-container-id-27 label.sk-toggleable__label-arrow:before {content: \"▸\";float: left;margin-right: 0.25em;color: #696969;}#sk-container-id-27 label.sk-toggleable__label-arrow:hover:before {color: black;}#sk-container-id-27 div.sk-estimator:hover label.sk-toggleable__label-arrow:before {color: black;}#sk-container-id-27 div.sk-toggleable__content {max-height: 0;max-width: 0;overflow: hidden;text-align: left;background-color: #f0f8ff;}#sk-container-id-27 div.sk-toggleable__content pre {margin: 0.2em;color: black;border-radius: 0.25em;background-color: #f0f8ff;}#sk-container-id-27 input.sk-toggleable__control:checked~div.sk-toggleable__content {max-height: 200px;max-width: 100%;overflow: auto;}#sk-container-id-27 input.sk-toggleable__control:checked~label.sk-toggleable__label-arrow:before {content: \"▾\";}#sk-container-id-27 div.sk-estimator input.sk-toggleable__control:checked~label.sk-toggleable__label {background-color: #d4ebff;}#sk-container-id-27 div.sk-label input.sk-toggleable__control:checked~label.sk-toggleable__label {background-color: #d4ebff;}#sk-container-id-27 input.sk-hidden--visually {border: 0;clip: rect(1px 1px 1px 1px);clip: rect(1px, 1px, 1px, 1px);height: 1px;margin: -1px;overflow: hidden;padding: 0;position: absolute;width: 1px;}#sk-container-id-27 div.sk-estimator {font-family: monospace;background-color: #f0f8ff;border: 1px dotted black;border-radius: 0.25em;box-sizing: border-box;margin-bottom: 0.5em;}#sk-container-id-27 div.sk-estimator:hover {background-color: #d4ebff;}#sk-container-id-27 div.sk-parallel-item::after {content: \"\";width: 100%;border-bottom: 1px solid gray;flex-grow: 1;}#sk-container-id-27 div.sk-label:hover label.sk-toggleable__label {background-color: #d4ebff;}#sk-container-id-27 div.sk-serial::before {content: \"\";position: absolute;border-left: 1px solid gray;box-sizing: border-box;top: 0;bottom: 0;left: 50%;z-index: 0;}#sk-container-id-27 div.sk-serial {display: flex;flex-direction: column;align-items: center;background-color: white;padding-right: 0.2em;padding-left: 0.2em;position: relative;}#sk-container-id-27 div.sk-item {position: relative;z-index: 1;}#sk-container-id-27 div.sk-parallel {display: flex;align-items: stretch;justify-content: center;background-color: white;position: relative;}#sk-container-id-27 div.sk-item::before, #sk-container-id-27 div.sk-parallel-item::before {content: \"\";position: absolute;border-left: 1px solid gray;box-sizing: border-box;top: 0;bottom: 0;left: 50%;z-index: -1;}#sk-container-id-27 div.sk-parallel-item {display: flex;flex-direction: column;z-index: 1;position: relative;background-color: white;}#sk-container-id-27 div.sk-parallel-item:first-child::after {align-self: flex-end;width: 50%;}#sk-container-id-27 div.sk-parallel-item:last-child::after {align-self: flex-start;width: 50%;}#sk-container-id-27 div.sk-parallel-item:only-child::after {width: 0;}#sk-container-id-27 div.sk-dashed-wrapped {border: 1px dashed gray;margin: 0 0.4em 0.5em 0.4em;box-sizing: border-box;padding-bottom: 0.4em;background-color: white;}#sk-container-id-27 div.sk-label label {font-family: monospace;font-weight: bold;display: inline-block;line-height: 1.2em;}#sk-container-id-27 div.sk-label-container {text-align: center;}#sk-container-id-27 div.sk-container {/* jupyter's `normalize.less` sets `[hidden] { display: none; }` but bootstrap.min.css set `[hidden] { display: none !important; }` so we also need the `!important` here to be able to override the default hidden behavior on the sphinx rendered scikit-learn.org. See: https://github.com/scikit-learn/scikit-learn/issues/21755 */display: inline-block !important;position: relative;}#sk-container-id-27 div.sk-text-repr-fallback {display: none;}</style><div id=\"sk-container-id-27\" class=\"sk-top-container\"><div class=\"sk-text-repr-fallback\"><pre>KNeighborsClassifier(n_neighbors=9)</pre><b>In a Jupyter environment, please rerun this cell to show the HTML representation or trust the notebook. <br />On GitHub, the HTML representation is unable to render, please try loading this page with nbviewer.org.</b></div><div class=\"sk-container\" hidden><div class=\"sk-item\"><div class=\"sk-estimator sk-toggleable\"><input class=\"sk-toggleable__control sk-hidden--visually\" id=\"sk-estimator-id-27\" type=\"checkbox\" checked><label for=\"sk-estimator-id-27\" class=\"sk-toggleable__label sk-toggleable__label-arrow\">KNeighborsClassifier</label><div class=\"sk-toggleable__content\"><pre>KNeighborsClassifier(n_neighbors=9)</pre></div></div></div></div></div>"
      ],
      "text/plain": [
       "KNeighborsClassifier(n_neighbors=9)"
      ]
     },
     "execution_count": 109,
     "metadata": {},
     "output_type": "execute_result"
    }
   ],
   "source": [
    "# TODO: Train model with k=optimal_k\n",
    "model = KNeighborsClassifier(n_neighbors=optimal_k)\n",
    "model.fit(X_train, y_train)"
   ]
  },
  {
   "cell_type": "code",
   "execution_count": null,
   "metadata": {
    "id": "3Kb0wRR24ZUQ"
   },
   "outputs": [
    {
     "name": "stdout",
     "output_type": "stream",
     "text": [
      "Accuracy, train = 0.84125 test = 0.815\n"
     ]
    }
   ],
   "source": [
    "# TODO: Calculate accuracy in training and test for KNN with k=optimal_k\n",
    "acc_train = accuracy_score(model.predict(X_train), y_train)\n",
    "acc_test = accuracy_score(model.predict(X_test), y_test)\n",
    "print(f'Accuracy, train = {acc_train} test = {acc_test}')"
   ]
  },
  {
   "cell_type": "markdown",
   "metadata": {
    "id": "TkGTPUjt4ZUR"
   },
   "source": [
    "### Sensitivity analysis\n",
    "- Does the number of folds affects the optimal value of `n_neighbors`? Why or why not?\n",
    "> Sí, el valor óptimo del número de vecinos depende del número de folds, ya que cuanto mayor este último mejor será la estimación del error\n",
    "\n",
    "- What happens with the computational time if you increment the number of folds?\n",
    "> El coste computional aumenta al incrementar el número de folds, ya que cuanto mayor sea este último, en más subconjuntos tendrá que separar el conjunto de entrenamiento, y por tanto, más precisiones distintas deberá calcular\n",
    "\n",
    "- Does it worth to increase the number of folds? Is the CV error a better proxy of the test set?\n",
    "> Aunque la estimación del error de test mejora, el coste computacional aumenta demasiado, por lo que puede no ser conveniente aumentar el número de folds en exceso para cross validation"
   ]
  },
  {
   "cell_type": "markdown",
   "metadata": {},
   "source": []
  }
 ],
 "metadata": {
  "colab": {
   "provenance": []
  },
  "kernelspec": {
   "display_name": "base",
   "language": "python",
   "name": "python3"
  },
  "language_info": {
   "codemirror_mode": {
    "name": "ipython",
    "version": 3
   },
   "file_extension": ".py",
   "mimetype": "text/x-python",
   "name": "python",
   "nbconvert_exporter": "python",
   "pygments_lexer": "ipython3",
   "version": "3.11.4"
  }
 },
 "nbformat": 4,
 "nbformat_minor": 0
}
